﻿{
  "metadata": {
    "name": "demo-click",
    "kernelspec": {
      "language": "scala",
      "name": "spark2-scala"
    },
    "language_info": {
      "codemirror_mode": "text/x-scala",
      "file_extension": ".scala",
      "mimetype": "text/x-scala",
      "name": "scala",
      "pygments_lexer": "scala"
    }
  },
  "nbformat": 4,
  "nbformat_minor": 2,
  "cells": [
    {
      "cell_type": "code",
      "execution_count": 0,
      "metadata": {
        "autoscroll": "auto"
      },
      "outputs": [],
      "source": "\n\n%flink.ssql\n\n\n\nDROP  TABLE IF EXISTS click_s3_table;\n\nCREATE TABLE click_s3_table (\n    `voterid` STRING,\n    `choice` STRING,\n    t bigint ,\n     tt TIMESTAMP\n)  \n WITH (\n  \u0027connector\u0027 \u003d \u0027filesystem\u0027,\n  \u0027path\u0027 \u003d \u0027s3a://clickapplog/ods/\u0027,\n  \u0027format\u0027 \u003d \u0027csv\u0027,\n   \u0027sink.rolling-policy.check-interval\u0027 \u003d \u00275 s\u0027,\n    \u0027sink.rolling-policy.rollover-interval\u0027 \u003d \u002720 s\u0027,\n    \u0027sink.partition-commit.delay\u0027 \u003d \u00271 s\u0027,\n    \u0027sink.rolling-policy.file-size\u0027 \u003d \u00271m\u0027,\n    \u0027csv.field-delimiter\u0027 \u003d U\u0026\u0027\\0009\u0027,\n    \u0027csv.disable-quote-character\u0027 \u003d \u0027true\u0027\n);\n\n\n\n\n\n"
    },
    {
      "cell_type": "code",
      "execution_count": 1,
      "metadata": {
        "autoscroll": "auto"
      },
      "outputs": [],
      "source": "%flink\n\n\nsenv.enableCheckpointing(60000)\n\n\n"
    },
    {
      "cell_type": "code",
      "execution_count": 2,
      "metadata": {
        "autoscroll": "auto"
      },
      "outputs": [],
      "source": "%flink.ssql\n\n\nshow tables;\n"
    },
    {
      "cell_type": "code",
      "execution_count": 3,
      "metadata": {
        "autoscroll": "auto"
      },
      "outputs": [],
      "source": "\n%flink.ssql\n\nDROP  TABLE IF EXISTS click_kinesis_table;\n\nCREATE TABLE  click_kinesis_table (\n     `voterid` STRING,\n    `choice` STRING,\n    t bigint,\n    tt as TO_TIMESTAMP(FROM_UNIXTIME(t/1000, \u0027yyyy-MM-dd HH:mm:ss\u0027)),\n    WATERMARK FOR tt AS tt - INTERVAL \u00275\u0027 SECOND\n) \n WITH (\n  \u0027connector\u0027 \u003d \u0027kinesis\u0027,\n  \u0027stream\u0027 \u003d \u0027click_stream\u0027,\n  \u0027aws.region\u0027 \u003d \u0027ap-southeast-1\u0027,\n  \u0027scan.stream.initpos\u0027 \u003d \u0027LATEST\u0027,\n  \u0027format\u0027 \u003d \u0027json\u0027\n);\n\n"
    },
    {
      "cell_type": "code",
      "execution_count": 4,
      "metadata": {
        "autoscroll": "auto"
      },
      "outputs": [],
      "source": "%flink.ssql(type\u003dupdate, parallelism\u003d2)\n\n\n\nINSERT INTO click_s3_table SELECT * FROM click_kinesis_table"
    },
    {
      "cell_type": "code",
      "execution_count": 5,
      "metadata": {
        "autoscroll": "auto"
      },
      "outputs": [],
      "source": "%flink.ssql(type\u003dupdate)\n\nSELECT * FROM click_kinesis_table\n"
    },
    {
      "cell_type": "code",
      "execution_count": 6,
      "metadata": {
        "autoscroll": "auto"
      },
      "outputs": [],
      "source": "%flink.ssql\n"
    }
  ]
}